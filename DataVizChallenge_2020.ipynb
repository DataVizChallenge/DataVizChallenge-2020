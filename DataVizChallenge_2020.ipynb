{
 "cells": [
  {
   "cell_type": "code",
   "execution_count": 1,
   "metadata": {},
   "outputs": [],
   "source": [
    "import pandas as pd\n",
    "import ipywidgets as widgets\n",
    "import json\n",
    "import ipyleaflet\n",
    "from ipyleaflet import basemaps\n",
    "from branca.colormap import linear"
   ]
  },
  {
   "cell_type": "code",
   "execution_count": 2,
   "metadata": {},
   "outputs": [],
   "source": [
    "#Reading csv from data created by parsing orginal JSON file\n",
    "#CSV contains a count of every kind of crime for each participating city/municipality\n",
    "crime_df = pd.read_csv('MA_crime_by_agency_mod.csv',index_col=0)"
   ]
  },
  {
   "cell_type": "code",
   "execution_count": 3,
   "metadata": {},
   "outputs": [],
   "source": [
    "#Load static cities GeoJSON\n",
    "with open(\"static_cities.json\") as f:\n",
    "    static_geojson = json.load(f)"
   ]
  },
  {
   "cell_type": "code",
   "execution_count": 4,
   "metadata": {},
   "outputs": [],
   "source": [
    "#Load dynamic cities GeoJSON\n",
    "with open(\"dyn_cities.json\") as f:\n",
    "    dyn_geojson = json.load(f)"
   ]
  },
  {
   "cell_type": "code",
   "execution_count": 5,
   "metadata": {},
   "outputs": [],
   "source": [
    "# #Create a map with at the specified center, with the ability to use the scroll wheel to zoom\n",
    "# #Note the center param of Map() uses standard lat/long order of coordinates while the Choropleth() function requires the lat/long order to be reversed\n",
    "center = (42.16340342422403, -70.60638427734376)\n",
    "m = ipyleaflet.Map(center = center, scroll_wheel_zoom=True, zoom = 8, max_zoom=11)"
   ]
  },
  {
   "cell_type": "code",
   "execution_count": 6,
   "metadata": {
    "scrolled": true
   },
   "outputs": [],
   "source": [
    "#Build to choropleth dictionary that puts together the name of the city with the number of this crimes, in this case, the total\n",
    "choro_data = dict(zip(crime_df.index.tolist(), crime_df['Total'].tolist()))"
   ]
  },
  {
   "cell_type": "code",
   "execution_count": 7,
   "metadata": {},
   "outputs": [],
   "source": [
    "#Widget that comes on screen when data is loading\n",
    "loading = widgets.HTML(value=\"<b>LOADING DATA</b>\")\n",
    "loading_control = ipyleaflet.WidgetControl(widget=loading, position='bottomleft')"
   ]
  },
  {
   "cell_type": "code",
   "execution_count": 8,
   "metadata": {},
   "outputs": [],
   "source": [
    "#Defining the function that will be called when the user wants to see a different crime type displayed\n",
    "#This function builds a new choro dictionary based on the new crime type, changed the choro mins and maxs, and changes the value of the choro_data with the new dict\n",
    "def choro_layer(change):\n",
    "    m.add_control(loading_control)\n",
    "    choro_data = dict(zip(crime_df.index.tolist(), crime_df.fillna(0)[change['new']].tolist()))\n",
    "    dyn_cities.value_max = max(crime_df.fillna(0)[change['new']].tolist())\n",
    "    dyn_cities.value_min = min(crime_df.fillna(0)[change['new']].tolist())\n",
    "    dyn_cities.choro_data = choro_data\n",
    "    m.remove_control(loading_control)"
   ]
  },
  {
   "cell_type": "code",
   "execution_count": 9,
   "metadata": {
    "scrolled": true
   },
   "outputs": [],
   "source": [
    "#Creating the choropleth object of cities that provided data that will be added to the map\n",
    "dyn_cities = ipyleaflet.Choropleth(\n",
    "    geo_data=dyn_geojson,\n",
    "    choro_data=choro_data,\n",
    "    key_on= 'TOWN',\n",
    "    colormap=linear.YlOrRd_09,\n",
    "    border_color='black',\n",
    "    style={'fillOpacity':0.8, 'dashArray': '5,5'})"
   ]
  },
  {
   "cell_type": "code",
   "execution_count": 10,
   "metadata": {
    "scrolled": true
   },
   "outputs": [],
   "source": [
    "#Add Chorpleth layer to the map\n",
    "m.add_layer(dyn_cities)"
   ]
  },
  {
   "cell_type": "code",
   "execution_count": 11,
   "metadata": {},
   "outputs": [],
   "source": [
    "#Creating the GeoJSON layer of the static cities that did not provide data that will be added to the map\n",
    "static_cities = ipyleaflet.GeoJSON(\n",
    "    data=static_geojson,\n",
    "    style={'color':'black','fillColor':'grey','fillOpacity':0.8, 'dashArray': '5,5'},\n",
    ")"
   ]
  },
  {
   "cell_type": "code",
   "execution_count": 12,
   "metadata": {},
   "outputs": [],
   "source": [
    "#Adding GeoJSON layer to the map\n",
    "m.add_layer(static_cities)"
   ]
  },
  {
   "cell_type": "code",
   "execution_count": 13,
   "metadata": {},
   "outputs": [],
   "source": [
    "#Adding layer control via dropdown widget to give the user the ability to toggle layers (i.e., crime types)\n",
    "layer_drop = widgets.Dropdown(options=list(crime_df.columns), value= 'Total', description='Crime Type')\n",
    "layer_drop.observe(choro_layer, 'value')\n",
    "\n",
    "#Adding that as a widget control in ipyleaflet\n",
    "layer_control = ipyleaflet.WidgetControl(widget=layer_drop, position='topright')\n",
    "\n",
    "#Adding layer control to the map\n",
    "m.add_control(layer_control)"
   ]
  },
  {
   "cell_type": "code",
   "execution_count": 14,
   "metadata": {},
   "outputs": [],
   "source": [
    "#Creating an HTML widget that will be added to the map to display data\n",
    "city_stat = widgets.HTML(\"Hover over a city to see its crime count for the selected crime type.\")\n",
    "html_control = ipyleaflet.WidgetControl(widget=city_stat, position='bottomright')\n",
    "m.add_control(html_control)"
   ]
  },
  {
   "cell_type": "code",
   "execution_count": 15,
   "metadata": {},
   "outputs": [],
   "source": [
    "#Adding the fullscreen control\n",
    "m.add_control(ipyleaflet.FullScreenControl())"
   ]
  },
  {
   "cell_type": "code",
   "execution_count": 16,
   "metadata": {},
   "outputs": [],
   "source": [
    "#Getting colors to add to legend control\n",
    "colors = [linear.YlOrRd_09.rgb_hex_str(color) for color in linear.YlOrRd_09.index]\n",
    "#Unpacking for legend control\n",
    "low, medium, high = colors[0], colors[4], colors[8]"
   ]
  },
  {
   "cell_type": "code",
   "execution_count": 17,
   "metadata": {},
   "outputs": [],
   "source": [
    "#Defining and adding legend control\n",
    "legend = ipyleaflet.LegendControl({\"Low\":low, \"Medium\":medium, \"High\":high, \"Data Not Provided\": '#A9A9A9'}, name=\"Relative Crime Frequency\", position=\"bottomleft\")\n",
    "m.add_control(legend)"
   ]
  },
  {
   "cell_type": "code",
   "execution_count": 18,
   "metadata": {},
   "outputs": [],
   "source": [
    "#Creating callback function to display crime statistics for each city when hovered over\n",
    "#Prints the name, crime types, and count for each city when hovered over or tells the user the city did not provide data\n",
    "def update_city_stat(feature, **kwargs):\n",
    "    if pd.isnull(crime_df.loc[feature['TOWN'], layer_drop.value]):\n",
    "        val = \"Data not provided by this city\"\n",
    "    else:\n",
    "        val = str(int(crime_df.loc[feature['TOWN'], layer_drop.value]))\n",
    "    city_stat.value = \"City: \" + str(feature['TOWN']) + \"<br>\" + \"Instances of \" + str(layer_drop.value) + \": \" + val"
   ]
  },
  {
   "cell_type": "code",
   "execution_count": 19,
   "metadata": {},
   "outputs": [],
   "source": [
    "#Telling ipyleaflet to watch for the user hovering over these layers and gives it a function to call when it happens\n",
    "dyn_cities.on_hover(update_city_stat)\n",
    "\n",
    "static_cities.on_hover(update_city_stat)"
   ]
  },
  {
   "cell_type": "code",
   "execution_count": 27,
   "metadata": {},
   "outputs": [],
   "source": [
    "#Defining HTML widgets for labels\n",
    "top_label = widgets.HTML(value = '''<h1><b>Data Visualization Challenge 2020</b></h1> <h3>Massachusetts 2018 NIBRS Data</h3>\n",
    " <ul>\n",
    "  <li>Use the dropdown box in the right hand corner to select the crime type displayed</li>\n",
    "  <li>Hover over a city to see the city's name and the number of recorded instances of the selected crime type</li>\n",
    "  <li>Use the scroll wheel or the zoom control in the top left corner to zoom in and out of the map</li>\n",
    "  <li>Use the fullscreen button in the top left corner below the zoom control to go fullscreen</li>\n",
    "</ul> ''')"
   ]
  },
  {
   "cell_type": "code",
   "execution_count": 30,
   "metadata": {},
   "outputs": [],
   "source": [
    "bottom_label = widgets.HTML(value = \"<h3>Special thanks to Chad Brouillette for his assistance</h3> <h3>Credit to <a href=https://tereshenkov.wordpress.com/2017/11/08/removing-redundant-polyline-vertices-using-arcpy/><u style = 'color:blue;'>this</u></a> post for the script that uses collinearity to remove excessive coordinates from the map</h3>\")"
   ]
  },
  {
   "cell_type": "code",
   "execution_count": 31,
   "metadata": {},
   "outputs": [
    {
     "data": {
      "application/vnd.jupyter.widget-view+json": {
       "model_id": "d89c505189da4501be81371aafd2310b",
       "version_major": 2,
       "version_minor": 0
      },
      "text/plain": [
       "VBox(children=(HTML(value=\"<h1><b>Data Visualization Challenge 2020</b></h1> <h3>Massachusetts 2018 NIBRS Data…"
      ]
     },
     "metadata": {},
     "output_type": "display_data"
    }
   ],
   "source": [
    "widgets.VBox([top_label, m, bottom_label])"
   ]
  }
 ],
 "metadata": {
  "kernelspec": {
   "display_name": "Python 3",
   "language": "python",
   "name": "python3"
  },
  "language_info": {
   "codemirror_mode": {
    "name": "ipython",
    "version": 3
   },
   "file_extension": ".py",
   "mimetype": "text/x-python",
   "name": "python",
   "nbconvert_exporter": "python",
   "pygments_lexer": "ipython3",
   "version": "3.8.3"
  }
 },
 "nbformat": 4,
 "nbformat_minor": 4
}
